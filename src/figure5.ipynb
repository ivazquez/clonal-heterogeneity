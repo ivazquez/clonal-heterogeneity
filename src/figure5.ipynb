{
 "cells": [
  {
   "cell_type": "markdown",
   "metadata": {},
   "source": [
    "# Supplemental Information:\n",
    "\n",
    "> **\"Clonal heterogeneity influences the fate of new adaptive mutations\"**\n",
    "\n",
    "> Ignacio Vázquez-García, Francisco Salinas, Jing Li, Andrej Fischer, Benjamin Barré, Johan Hallin, Anders Bergström, Elisa Alonso-Pérez, Jonas Warringer, Ville Mustonen, Gianni Liti\n",
    "\n",
    "## Figure 5\n",
    "\n",
    "This IPython notebook is provided for reproduction of Figure 5 of the paper. It can be viewed by copying its URL to nbviewer and it can be run by opening it in binder."
   ]
  },
  {
   "cell_type": "code",
   "execution_count": 1,
   "metadata": {},
   "outputs": [
    {
     "name": "stderr",
     "output_type": "stream",
     "text": [
      "/Users/ivg/.virtualenvs/genetic-variation/lib/python2.7/site-packages/seaborn/apionly.py:6: UserWarning: As seaborn no longer sets a default style on import, the seaborn.apionly module is deprecated. It will be removed in a future version.\n",
      "  warnings.warn(msg, UserWarning)\n"
     ]
    }
   ],
   "source": [
    "# Load dependencies\n",
    "import setup,colors,config,plot,utils\n",
    "\n",
    "%load_ext autoreload\n",
    "%autoreload 2\n",
    "\n",
    "%matplotlib inline"
   ]
  },
  {
   "cell_type": "markdown",
   "metadata": {},
   "source": [
    "## Data import"
   ]
  },
  {
   "cell_type": "markdown",
   "metadata": {},
   "source": [
    "### Length distribution of homozygosity tracts"
   ]
  },
  {
   "cell_type": "code",
   "execution_count": 4,
   "metadata": {},
   "outputs": [
    {
     "data": {
      "text/html": [
       "<div>\n",
       "<style>\n",
       "    .dataframe thead tr:only-child th {\n",
       "        text-align: right;\n",
       "    }\n",
       "\n",
       "    .dataframe thead th {\n",
       "        text-align: left;\n",
       "    }\n",
       "\n",
       "    .dataframe tbody tr th {\n",
       "        vertical-align: top;\n",
       "    }\n",
       "</style>\n",
       "<table border=\"1\" class=\"dataframe\">\n",
       "  <thead>\n",
       "    <tr style=\"text-align: right;\">\n",
       "      <th></th>\n",
       "      <th>HU</th>\n",
       "      <th>RM</th>\n",
       "      <th>YPD</th>\n",
       "    </tr>\n",
       "    <tr>\n",
       "      <th>50kb_bin_center</th>\n",
       "      <th></th>\n",
       "      <th></th>\n",
       "      <th></th>\n",
       "    </tr>\n",
       "  </thead>\n",
       "  <tbody>\n",
       "    <tr>\n",
       "      <th>25.0</th>\n",
       "      <td>0.731240</td>\n",
       "      <td>0.745737</td>\n",
       "      <td>0.749937</td>\n",
       "    </tr>\n",
       "    <tr>\n",
       "      <th>75.0</th>\n",
       "      <td>0.140123</td>\n",
       "      <td>0.153088</td>\n",
       "      <td>0.159649</td>\n",
       "    </tr>\n",
       "    <tr>\n",
       "      <th>125.0</th>\n",
       "      <td>0.053599</td>\n",
       "      <td>0.056461</td>\n",
       "      <td>0.053509</td>\n",
       "    </tr>\n",
       "    <tr>\n",
       "      <th>175.0</th>\n",
       "      <td>0.033691</td>\n",
       "      <td>0.021599</td>\n",
       "      <td>0.021700</td>\n",
       "    </tr>\n",
       "    <tr>\n",
       "      <th>225.0</th>\n",
       "      <td>0.013017</td>\n",
       "      <td>0.009852</td>\n",
       "      <td>0.008454</td>\n",
       "    </tr>\n",
       "  </tbody>\n",
       "</table>\n",
       "</div>"
      ],
      "text/plain": [
       "                       HU        RM       YPD\n",
       "50kb_bin_center                              \n",
       "25.0             0.731240  0.745737  0.749937\n",
       "75.0             0.140123  0.153088  0.159649\n",
       "125.0            0.053599  0.056461  0.053509\n",
       "175.0            0.033691  0.021599  0.021700\n",
       "225.0            0.013017  0.009852  0.008454"
      ]
     },
     "execution_count": 4,
     "metadata": {},
     "output_type": "execute_result"
    }
   ],
   "source": [
    "# Load data\n",
    "loh_length_df = pd.read_csv(dir_data+'seq/loh/homozygosity_length.tsv', sep='\\t')\n",
    "loh_length_df = loh_length_df.set_index(\"50kb_bin_center\")\n",
    "loh_length_df = loh_length_df.reindex(columns=['HU','RM','YPD'])\n",
    "\n",
    "loh_length_df.head()"
   ]
  },
  {
   "cell_type": "markdown",
   "metadata": {},
   "source": [
    "### Fluctuation assay\n",
    "\n",
    "Luria-Delbrück fluctuation assay."
   ]
  },
  {
   "cell_type": "code",
   "execution_count": 6,
   "metadata": {},
   "outputs": [
    {
     "data": {
      "text/html": [
       "<div>\n",
       "<style>\n",
       "    .dataframe thead tr:only-child th {\n",
       "        text-align: right;\n",
       "    }\n",
       "\n",
       "    .dataframe thead th {\n",
       "        text-align: left;\n",
       "    }\n",
       "\n",
       "    .dataframe tbody tr th {\n",
       "        vertical-align: top;\n",
       "    }\n",
       "</style>\n",
       "<table border=\"1\" class=\"dataframe\">\n",
       "  <thead>\n",
       "    <tr>\n",
       "      <th></th>\n",
       "      <th colspan=\"3\" halign=\"left\">LOH_rate</th>\n",
       "      <th colspan=\"3\" halign=\"left\">lower</th>\n",
       "      <th colspan=\"3\" halign=\"left\">upper</th>\n",
       "    </tr>\n",
       "    <tr>\n",
       "      <th>background</th>\n",
       "      <th>WA/WA</th>\n",
       "      <th>WA/NA</th>\n",
       "      <th>NA/NA</th>\n",
       "      <th>WA/WA</th>\n",
       "      <th>WA/NA</th>\n",
       "      <th>NA/NA</th>\n",
       "      <th>WA/WA</th>\n",
       "      <th>WA/NA</th>\n",
       "      <th>NA/NA</th>\n",
       "    </tr>\n",
       "    <tr>\n",
       "      <th>environment</th>\n",
       "      <th></th>\n",
       "      <th></th>\n",
       "      <th></th>\n",
       "      <th></th>\n",
       "      <th></th>\n",
       "      <th></th>\n",
       "      <th></th>\n",
       "      <th></th>\n",
       "      <th></th>\n",
       "    </tr>\n",
       "  </thead>\n",
       "  <tbody>\n",
       "    <tr>\n",
       "      <th>HU</th>\n",
       "      <td>0.001326</td>\n",
       "      <td>0.000133</td>\n",
       "      <td>0.000254</td>\n",
       "      <td>-0.000083</td>\n",
       "      <td>2.936135e-05</td>\n",
       "      <td>0.000018</td>\n",
       "      <td>0.002736</td>\n",
       "      <td>0.000237</td>\n",
       "      <td>0.000489</td>\n",
       "    </tr>\n",
       "    <tr>\n",
       "      <th>RM</th>\n",
       "      <td>0.000006</td>\n",
       "      <td>0.000001</td>\n",
       "      <td>0.000106</td>\n",
       "      <td>0.000001</td>\n",
       "      <td>2.704352e-07</td>\n",
       "      <td>0.000005</td>\n",
       "      <td>0.000011</td>\n",
       "      <td>0.000002</td>\n",
       "      <td>0.000207</td>\n",
       "    </tr>\n",
       "    <tr>\n",
       "      <th>YPD</th>\n",
       "      <td>0.000008</td>\n",
       "      <td>0.000004</td>\n",
       "      <td>0.000026</td>\n",
       "      <td>0.000002</td>\n",
       "      <td>1.394511e-06</td>\n",
       "      <td>0.000007</td>\n",
       "      <td>0.000014</td>\n",
       "      <td>0.000007</td>\n",
       "      <td>0.000045</td>\n",
       "    </tr>\n",
       "  </tbody>\n",
       "</table>\n",
       "</div>"
      ],
      "text/plain": [
       "             LOH_rate                         lower                          \\\n",
       "background      WA/WA     WA/NA     NA/NA     WA/WA         WA/NA     NA/NA   \n",
       "environment                                                                   \n",
       "HU           0.001326  0.000133  0.000254 -0.000083  2.936135e-05  0.000018   \n",
       "RM           0.000006  0.000001  0.000106  0.000001  2.704352e-07  0.000005   \n",
       "YPD          0.000008  0.000004  0.000026  0.000002  1.394511e-06  0.000007   \n",
       "\n",
       "                upper                      \n",
       "background      WA/WA     WA/NA     NA/NA  \n",
       "environment                                \n",
       "HU           0.002736  0.000237  0.000489  \n",
       "RM           0.000011  0.000002  0.000207  \n",
       "YPD          0.000014  0.000007  0.000045  "
      ]
     },
     "execution_count": 6,
     "metadata": {},
     "output_type": "execute_result"
    }
   ],
   "source": [
    "# Read csv file containing the competition assay data\n",
    "loh_fluctuation_df = pd.read_csv(dir_data+'fluctuation/fluctuation_assay.csv')\n",
    "loh_fluctuation_df = loh_fluctuation_df.sort_values('background', ascending=False)\n",
    "loh_fluctuation_df = loh_fluctuation_df.groupby(['background','environment'],sort=False)[['LOH_rate','lower','upper']].mean()#.unstack('background')\n",
    "loh_fluctuation_df = loh_fluctuation_df.ix[['WA/WA','NA/NA','WA/NA']].unstack('background')\n",
    "\n",
    "loh_fluctuation_df = loh_fluctuation_df.ix[['HU','RM','YPD']]\n",
    "loh_fluctuation_df"
   ]
  },
  {
   "cell_type": "markdown",
   "metadata": {},
   "source": [
    "## Figure 5 - Loss of heterozygosity"
   ]
  },
  {
   "cell_type": "code",
   "execution_count": 8,
   "metadata": {},
   "outputs": [
    {
     "data": {
      "image/png": "[encoded data removed]",
      "text/plain": [
       "<matplotlib.figure.Figure at 0x10e4323d0>"
      ]
     },
     "metadata": {},
     "output_type": "display_data"
    }
   ],
   "source": [
    "fig = plt.figure(figsize=(4,6))\n",
    "\n",
    "grid = gridspec.GridSpec(nrows=3, ncols=2, height_ratios=[15, 7, 5], hspace=0.7, wspace=0.3)\n",
    "\n",
    "gs = {}\n",
    "gs['length'] = gridspec.GridSpecFromSubplotSpec(1, 1, subplot_spec=grid[0,0])\n",
    "gs['fluctuation'] = gridspec.GridSpecFromSubplotSpec(1, 1, subplot_spec=grid[0,1])\n",
    "gs[('loh','WAxNA_F12_1_HU_3')] = gridspec.GridSpecFromSubplotSpec(7, 1, subplot_spec=grid[1:2,:], hspace=0)\n",
    "gs[('loh','WAxNA_F12_2_RM_1')] = gridspec.GridSpecFromSubplotSpec(5, 1, subplot_spec=grid[2:3,:], hspace=0)\n",
    "\n",
    "### top left panel ###\n",
    "ax = plt.subplot(gs['length'][:])\n",
    "ax.text(-0.185, 1.055, 'A', transform=ax.transAxes,\n",
    "        fontsize=9, fontweight='bold', va='top', ha='right')\n",
    "\n",
    "plot.loh_length(loh_length_df, ax)\n",
    "\n",
    "### top right panel ###\n",
    "ax = plt.subplot(gs['fluctuation'][:])\n",
    "ax.text(-0.2, 1.05, 'B', transform=ax.transAxes,\n",
    "        fontsize=9, fontweight='bold', va='top', ha='right')\n",
    "\n",
    "plot.loh_fluctuation(loh_fluctuation_df, ax)\n",
    "\n",
    "# axes limits\n",
    "for ax in fig.get_axes():\n",
    "    ax.xaxis.label.set_size(6)\n",
    "    ax.yaxis.label.set_size(6)\n",
    "    ax.tick_params(axis='both', which='major', size=3, labelsize=6)\n",
    "    ax.tick_params(axis='both', which='minor', size=2, labelsize=4)\n",
    "\n",
    "plot.save_figure(dir_paper+'figures/figure5/figure5')\n",
    "plt.show()"
   ]
  },
  {
   "cell_type": "markdown",
   "metadata": {},
   "source": [
    "**Fig. 5:** Pervasive genome instability. (**A**) The length distribution of homozygous segments, in bins corresponding to 50-kb increments, shows an excess of long homozygosity tracts above 300 kb in hydroxyurea and rapamycin (KS-test, $P<0.01$). Ancestral haploid isolates are used to compare a set of *in silico* diploid genomes to evolved diploid isolates. Only unrelated isolate backgrounds were included. (**B**) Background- and environment-dependent rates of loss-of-heterozygosity were measured in a fluctuation assay by loss of the *URA3* marker. 5-FOA+ colonies indicate loss of the marker. LOH rates were elevated in hydroxyurea compared to the control environment and manifested background-dependent effects between the parents and their hybrid. The mean frequency of 5-FOA+ colony-forming units (c.f.u.) is shown. Error bars indicate the standard error of the mean. (**C**) Whole-genome sequences of evolved clones sampled from WAxNA F12 populations after 32 days in hydroxyurea (top) or rapamycin (bottom). Chromosomes are shown on the $x$-axis; clone isolates are listed on the left, colored by lineage (see Fig. S4). The consensus shows the majority genotype across isolates with sequence identity greater than 80%. Individual cells with a shared background genotype carry *de novo* SNPs and indels (circles), mis-segregations with loss-of-heterozygosity (solid segments) and copy-number changes (hatched segments). Driver and passenger mutations are listed along the top (drivers are in boldface). In hydroxyurea, each isolate carries a shared *RNR2* heterozygous mutation and private regions with LOH. Chromosome II has undergone extensive LOH in isolates C5 and C6, which have 13% faster growth rate compared to C1-C4 (Fig. 2D, center panel). In rapamycin, *FPR1* mutant clone C1 is haploid and is related to the diploid clone C3. Both have lost the remaining *FPR1* wild-type copy either by a localized LOH event (C3) or meiosis (C1). An extended version of the figure with all sequenced isolates can be found in Fig. S6."
   ]
  }
 ],
 "metadata": {
  "kernelspec": {
   "display_name": "genetic-variation",
   "language": "python",
   "name": "genetic-variation"
  },
  "language_info": {
   "codemirror_mode": {
    "name": "ipython",
    "version": 2
   },
   "file_extension": ".py",
   "mimetype": "text/x-python",
   "name": "python",
   "nbconvert_exporter": "python",
   "pygments_lexer": "ipython2",
   "version": "2.7.13"
  },
  "latex_metadata": {
   "affiliation": "Wellcome Trust Sanger Institute, Hinxton, Cambridge CB10 1SA, United Kingdom; Department of Applied Mathematics and Theoretical Physics, University of Cambridge, Cambridge CB3 0WA, United Kingdom",
   "author": "Ignacio Vazquez-Garcia",
   "title": "Clonal heterogeneity influences the fate of new adaptive mutations"
  }
 },
 "nbformat": 4,
 "nbformat_minor": 1
}
