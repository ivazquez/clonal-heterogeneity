{
 "cells": [
  {
   "cell_type": "markdown",
   "metadata": {},
   "source": [
    "# Supplemental Information:\n",
    "\n",
    "> **\"Clonal heterogeneity influences the fate of new adaptive mutations\"**\n",
    "\n",
    "> Ignacio Vázquez-García, Francisco Salinas, Jing Li, Andrej Fischer, Benjamin Barré, Johan Hallin, Anders Bergström, Elisa Alonso-Pérez, Jonas Warringer, Ville Mustonen, Gianni Liti\n",
    "\n",
    "## Figure 4 (+ Supp. Figs.)\n",
    "\n",
    "This IPython notebook is provided for reproduction of Figures 4 and S5 of the paper. It can be viewed by copying its URL to nbviewer and it can be run by opening it in binder."
   ]
  },
  {
   "cell_type": "code",
   "execution_count": null,
   "metadata": {},
   "outputs": [],
   "source": [
    "# Load external dependencies\n",
    "from setup import *\n",
    "# Load internal dependencies\n",
    "import colors,config,plot,utils\n",
    "\n",
    "%load_ext autoreload\n",
    "%autoreload 2\n",
    "\n",
    "%matplotlib inline"
   ]
  },
  {
   "cell_type": "code",
   "execution_count": null,
   "metadata": {
    "collapsed": true
   },
   "outputs": [],
   "source": [
    "# %run load_datasets.py --redo"
   ]
  },
  {
   "cell_type": "markdown",
   "metadata": {},
   "source": [
    "## Data import"
   ]
  },
  {
   "cell_type": "markdown",
   "metadata": {},
   "source": [
    "### Chromosome length"
   ]
  },
  {
   "cell_type": "code",
   "execution_count": null,
   "metadata": {},
   "outputs": [],
   "source": [
    "chr_coords = utils.chr_coords()\n",
    "\n",
    "chr_coords.head()"
   ]
  },
  {
   "cell_type": "markdown",
   "metadata": {},
   "source": [
    "### Ancestral and evolved isolate genomes"
   ]
  },
  {
   "cell_type": "markdown",
   "metadata": {},
   "source": [
    "* *De novo* SNVs and indels in ancestral and evolved isolate genomes"
   ]
  },
  {
   "cell_type": "code",
   "execution_count": null,
   "metadata": {},
   "outputs": [],
   "source": [
    "# load data\n",
    "seq_mut_df = utils.load_data(dir_data+'seq/de-novo/seq_de_novo_snps_indels.pickle')\n",
    "\n",
    "seq_mut_df = seq_mut_df.rename(columns={'chrom':'chr_arabic', 'pos':'site'})\n",
    "seq_mut_df['chr_roman'] = seq_mut_df['chr_arabic'].apply(utils.int_to_roman)\n",
    "seq_mut_df = utils.chr_to_gw(seq_mut_df, chr_coords)\n",
    "\n",
    "seq_mut_df = seq_mut_df[(seq_mut_df.clone!='')].reset_index(drop=True)\n",
    "\n",
    "# remap genotype values\n",
    "seq_mut_df['genotype'] = seq_mut_df['genotype'].map({'0': 0, '1': 2,'0/0': 0, '0/1': 1, '1/0': 1, '1/1': 2})\n",
    "\n",
    "seq_mut_df['type'] = 'snp_indel'\n",
    "\n",
    "seq_mut_df.head()"
   ]
  },
  {
   "cell_type": "markdown",
   "metadata": {},
   "source": [
    "* Background (consensus) and *de novo* SNVs and indels\n",
    "* Copy number variation\n",
    "* Loss-of-heterozygosity"
   ]
  },
  {
   "cell_type": "code",
   "execution_count": null,
   "metadata": {},
   "outputs": [],
   "source": [
    "# load data\n",
    "seq_loh_df = utils.load_data(dir_data+'seq/de-novo/seq_de_novo_loh.pickle')\n",
    "\n",
    "seq_loh_df.head()"
   ]
  },
  {
   "cell_type": "markdown",
   "metadata": {},
   "source": [
    "Join all variants (SNVs, indels, LOH, copy number) into a single dataframe:"
   ]
  },
  {
   "cell_type": "code",
   "execution_count": 10,
   "metadata": {},
   "outputs": [
    {
     "ename": "NameError",
     "evalue": "name 'seq_loh_df' is not defined",
     "output_type": "error",
     "traceback": [
      "\u001b[0;31m---------------------------------------------------------------------------\u001b[0m",
      "\u001b[0;31mNameError\u001b[0m                                 Traceback (most recent call last)",
      "\u001b[0;32m<ipython-input-10-d3bb751f0917>\u001b[0m in \u001b[0;36m<module>\u001b[0;34m()\u001b[0m\n\u001b[1;32m      1\u001b[0m \u001b[0mcolumns\u001b[0m\u001b[0;34m=\u001b[0m\u001b[0;34m[\u001b[0m\u001b[0;34m'selection'\u001b[0m\u001b[0;34m,\u001b[0m\u001b[0;34m'population'\u001b[0m\u001b[0;34m,\u001b[0m\u001b[0;34m'clone'\u001b[0m\u001b[0;34m]\u001b[0m\u001b[0;34m\u001b[0m\u001b[0m\n\u001b[1;32m      2\u001b[0m seq_mut_fixed_df = pd.merge(seq_mut_df, \n\u001b[0;32m----> 3\u001b[0;31m                             \u001b[0mseq_loh_df\u001b[0m\u001b[0;34m[\u001b[0m\u001b[0;34m[\u001b[0m\u001b[0;34m'selection'\u001b[0m\u001b[0;34m,\u001b[0m\u001b[0;34m'population'\u001b[0m\u001b[0;34m,\u001b[0m\u001b[0;34m'clone'\u001b[0m\u001b[0;34m,\u001b[0m\u001b[0;34m'set'\u001b[0m\u001b[0;34m,\u001b[0m\u001b[0;34m'lineage'\u001b[0m\u001b[0;34m]\u001b[0m\u001b[0;34m]\u001b[0m\u001b[0;34m.\u001b[0m\u001b[0mdrop_duplicates\u001b[0m\u001b[0;34m(\u001b[0m\u001b[0mcolumns\u001b[0m\u001b[0;34m)\u001b[0m\u001b[0;34m,\u001b[0m\u001b[0;34m\u001b[0m\u001b[0m\n\u001b[0m\u001b[1;32m      4\u001b[0m                             on=columns, how='left')\n\u001b[1;32m      5\u001b[0m seq_loh_fixed_df = pd.merge(seq_loh_df, \n",
      "\u001b[0;31mNameError\u001b[0m: name 'seq_loh_df' is not defined"
     ]
    }
   ],
   "source": [
    "columns=['selection','population','clone']\n",
    "seq_mut_fixed_df = pd.merge(seq_mut_df, \n",
    "                            seq_loh_df[['selection','population','clone','set','lineage']].drop_duplicates(columns), \n",
    "                            on=columns, how='left')\n",
    "seq_loh_fixed_df = pd.merge(seq_loh_df, \n",
    "                            seq_mut_df[['selection','population','clone']].drop_duplicates(columns), \n",
    "                            on=columns, how='left')\n",
    "\n",
    "seq_dn_df = pd.concat([seq_loh_fixed_df, seq_mut_fixed_df], axis=0).reset_index(drop=True)\n",
    "\n",
    "seq_dn_df.head()"
   ]
  },
  {
   "cell_type": "markdown",
   "metadata": {},
   "source": [
    "## Figure S5 - Sequences of ancestral clones"
   ]
  },
  {
   "cell_type": "code",
   "execution_count": 11,
   "metadata": {},
   "outputs": [
    {
     "ename": "NameError",
     "evalue": "name 'seq_dn_df' is not defined",
     "output_type": "error",
     "traceback": [
      "\u001b[0;31m---------------------------------------------------------------------------\u001b[0m",
      "\u001b[0;31mNameError\u001b[0m                                 Traceback (most recent call last)",
      "\u001b[0;32m<ipython-input-11-18dc587107c6>\u001b[0m in \u001b[0;36m<module>\u001b[0;34m()\u001b[0m\n\u001b[1;32m      1\u001b[0m \u001b[0;31m# keep ancestral haploid isolates only\u001b[0m\u001b[0;34m\u001b[0m\u001b[0;34m\u001b[0m\u001b[0m\n\u001b[0;32m----> 2\u001b[0;31m \u001b[0mseq_dn_df_sliced\u001b[0m \u001b[0;34m=\u001b[0m \u001b[0mseq_dn_df\u001b[0m\u001b[0;34m[\u001b[0m\u001b[0;34m(\u001b[0m\u001b[0mseq_dn_df\u001b[0m\u001b[0;34m[\u001b[0m\u001b[0;34m'type'\u001b[0m\u001b[0;34m]\u001b[0m\u001b[0;34m.\u001b[0m\u001b[0misin\u001b[0m\u001b[0;34m(\u001b[0m\u001b[0;34m[\u001b[0m\u001b[0;34m'genotype'\u001b[0m\u001b[0;34m,\u001b[0m\u001b[0;34m'de novo'\u001b[0m\u001b[0;34m]\u001b[0m\u001b[0;34m)\u001b[0m\u001b[0;34m)\u001b[0m \u001b[0;34m&\u001b[0m                              \u001b[0;34m(\u001b[0m\u001b[0mseq_dn_df\u001b[0m\u001b[0;34m[\u001b[0m\u001b[0;34m'time'\u001b[0m\u001b[0;34m]\u001b[0m\u001b[0;34m==\u001b[0m\u001b[0;36m0\u001b[0m\u001b[0;34m)\u001b[0m \u001b[0;34m&\u001b[0m                              \u001b[0;34m(\u001b[0m\u001b[0mseq_dn_df\u001b[0m\u001b[0;34m[\u001b[0m\u001b[0;34m'ploidy'\u001b[0m\u001b[0;34m]\u001b[0m\u001b[0;34m==\u001b[0m\u001b[0;34m'haploid'\u001b[0m\u001b[0;34m)\u001b[0m\u001b[0;34m]\u001b[0m\u001b[0;34m\u001b[0m\u001b[0m\n\u001b[0m\u001b[1;32m      3\u001b[0m \u001b[0;34m\u001b[0m\u001b[0m\n\u001b[1;32m      4\u001b[0m \u001b[0mseq_dn_df_sliced\u001b[0m\u001b[0;34m[\u001b[0m\u001b[0;34m'clone'\u001b[0m\u001b[0;34m]\u001b[0m \u001b[0;34m=\u001b[0m \u001b[0mseq_dn_df_sliced\u001b[0m\u001b[0;34m[\u001b[0m\u001b[0;34m'clone'\u001b[0m\u001b[0;34m]\u001b[0m\u001b[0;34m.\u001b[0m\u001b[0mastype\u001b[0m\u001b[0;34m(\u001b[0m\u001b[0mint\u001b[0m\u001b[0;34m)\u001b[0m\u001b[0;34m\u001b[0m\u001b[0m\n\u001b[1;32m      5\u001b[0m \u001b[0mseq_dn_df_sliced\u001b[0m \u001b[0;34m=\u001b[0m \u001b[0mseq_dn_df_sliced\u001b[0m\u001b[0;34m.\u001b[0m\u001b[0msort_values\u001b[0m\u001b[0;34m(\u001b[0m\u001b[0;34m'clone'\u001b[0m\u001b[0;34m)\u001b[0m\u001b[0;34m\u001b[0m\u001b[0m\n",
      "\u001b[0;31mNameError\u001b[0m: name 'seq_dn_df' is not defined"
     ]
    }
   ],
   "source": [
    "# keep ancestral haploid isolates only\n",
    "seq_dn_df_sliced = seq_dn_df[(seq_dn_df['type'].isin(['genotype','de novo'])) & \\\n",
    "                             (seq_dn_df['time']==0) & \\\n",
    "                             (seq_dn_df['ploidy']=='haploid')]\n",
    "\n",
    "seq_dn_df_sliced['clone'] = seq_dn_df_sliced['clone'].astype(int)\n",
    "seq_dn_df_sliced = seq_dn_df_sliced.sort_values('clone')\n",
    "\n",
    "seq_dn_df_sliced = pd.pivot_table(seq_dn_df_sliced, \n",
    "                                  index=['selection','population','time','set','clone','lineage','type'], \n",
    "                                  columns=['chr_arabic','chr_roman','pos','gene'])['genotype']\n",
    "\n",
    "fig = plt.figure(figsize=(8, 6))\n",
    "\n",
    "shape = pd.DataFrame({k: \n",
    "x.shape for k,x in seq_dn_df_sliced.groupby(level=['population'])\n",
    "})\n",
    "\n",
    "grid = gridspec.GridSpec(1, 2, wspace=0.2)\n",
    "gs = {}\n",
    "\n",
    "for ii, (p, sdf) in enumerate(seq_dn_df_sliced.groupby(level=['population'])):\n",
    "\n",
    "    nrows = 1\n",
    "    ncols = 1\n",
    "    gs[p] = gridspec.GridSpecFromSubplotSpec(nrows, ncols,\n",
    "                                             subplot_spec=grid[ii],\n",
    "                                             hspace=0, wspace=0)\n",
    "    \n",
    "    # retrieve axis\n",
    "    ax = plt.subplot(gs[p][:])\n",
    "    \n",
    "    ### background genotype ###\n",
    "    indexer = [slice(None)]*len(sdf.index.names)\n",
    "    indexer[sdf.index.names.index('type')] = ['genotype']\n",
    "    gt = sdf.loc[tuple(indexer),:].dropna(axis=1, how='all')\n",
    "            \n",
    "    x = gt.columns.get_level_values('pos').values\n",
    "    y = np.arange(len(gt.index))\n",
    "    data = gt.fillna(method='pad', axis=1).values\n",
    "        \n",
    "    # make a color map of fixed colors\n",
    "    cmap = plt.cm.colors.ListedColormap([config.background['color']['NA'], \n",
    "                                         config.background['color']['WA']])\n",
    "    bounds = [0,1]\n",
    "    norm = plt.cm.colors.BoundaryNorm(bounds, cmap.N)\n",
    "    \n",
    "    title = ''\n",
    "    xlabel= ''\n",
    "    ylabel= ''\n",
    "    xticklabels = []\n",
    "    yticklabels = []\n",
    "        \n",
    "    plot.heatmap(np.r_[x, x.max()+1], np.r_[y, y.max()+1], data,\n",
    "                 ax, title, xlabel, ylabel, xticklabels, yticklabels, cmap=cmap, \n",
    "                 vmin=np.nanmin(data), vmax=np.nanmax(data), speed='fast')\n",
    "\n",
    "    # set title\n",
    "    ax.set_title(p.replace('_',' ')+' T0', fontsize=6, weight='bold')\n",
    "    \n",
    "    # set ticks\n",
    "    lineage = gt.index.get_level_values('lineage').unique()[0]\n",
    "    ax.tick_params(axis='y', colors=config.lineages[lineage]['fill'], width=5, which='both')\n",
    "    \n",
    "    ### de novo genotype ###\n",
    "    indexer = [slice(None)]*len(sdf.index.names)\n",
    "    indexer[sdf.index.names.index('type')] = ['de novo']\n",
    "    gn = sdf.loc[tuple(indexer),:].dropna(axis=1, how='all')\n",
    "        \n",
    "    if len(gn) > 0:\n",
    "                \n",
    "        for i,(k,g) in enumerate(gn.groupby(level='clone')):\n",
    "\n",
    "            g = g.dropna(axis=1)\n",
    "            x = g.columns.get_level_values('pos').values\n",
    "            y = np.repeat(g.index.get_level_values('clone').values+.5, len(x))\n",
    "            data = g.values.flatten()\n",
    "            ax.scatter(x, y,\n",
    "                       facecolors=[config.genotype['color'][d] for d in data],\n",
    "                       edgecolors='lightgray', s=8, rasterized=False, zorder=3)\n",
    "            \n",
    "            genes = g.columns.get_level_values('gene')\n",
    "            loc = zip(x, y-.4)\n",
    "            \n",
    "            for l, xy in zip(genes, loc):\n",
    "\n",
    "                ann = ax.annotate(l, xy=xy, xytext=(0, 0), textcoords='offset points',\n",
    "                                  bbox=dict(boxstyle=\"round,pad=0\", fc=\"w\", alpha=0.5),\n",
    "                                  fontsize=4.5, va='bottom', ha='center',\n",
    "                                  color='k', style=('italic' if l!='non-coding' else 'normal'),\n",
    "                                  path_effects=[PathEffects.withStroke(linewidth=0.35, foreground='w')])\n",
    "\n",
    "    # set grid\n",
    "    xlabels = chr_coords.chr_start + (chr_coords.chr_end - chr_coords.chr_start)/2.\n",
    "    xstart = chr_coords.chr_start\n",
    "    ax.set_xticks(xlabels, minor=False)\n",
    "    ax.set_xticklabels(chr_coords.chr_arabic.apply(utils.int_to_roman), minor=False)\n",
    "    ax.set_xlabel('Chromosome')\n",
    "    xgrid=[xst+1. for xst in list(set(xstart))]\n",
    "    [ax.axvline(g, lw=0.5, ls=\"-\", color=\"lightgray\") for g in xgrid]\n",
    "    \n",
    "    ylabels = gt.index.get_level_values('clone').map(str)\n",
    "    ax.set_yticks(np.arange(len(ylabels)) + 0.5, minor=False)\n",
    "    ax.set_yticklabels('C' + ylabels, fontweight='bold', va='center', minor=False)\n",
    "    [ax.axhline(g, lw=0.5, ls=\"-\", color=\"lightgray\") for g in np.arange(len(ylabels))]\n",
    "\n",
    "# set legend\n",
    "for k, xy in zip(['WAxNA_F12_2_YPD'],[(2,0),(2,0)]):\n",
    "    \n",
    "    ax = plt.subplot(gs[k][:])\n",
    "    \n",
    "    wt_artist = patches.Rectangle((0,0), width=1, height=1, color=config.background['color']['WA'])\n",
    "    hom_artist = patches.Rectangle((0,0), width=1, height=1, color=config.background['color']['NA'])\n",
    "    \n",
    "    leg1 = ax.legend([wt_artist,hom_artist], \n",
    "                     ['WA','NA'], \n",
    "                     bbox_to_anchor=(0.7, -0.1), ncol=1,\n",
    "                     frameon=False, loc='center',\n",
    "                     borderaxespad=0, handlelength=0.75, \n",
    "                     title='Background\\ngenotype', prop={'size':5})\n",
    "    \n",
    "    hom_artist = lines.Line2D((0,1),(0,0), mec='k', mfc=config.genotype['color'][2],\n",
    "                              marker='o', markersize=3, linestyle='')\n",
    "    \n",
    "    leg2 = ax.legend([hom_artist], \n",
    "                     ['hom.'], \n",
    "                     bbox_to_anchor=(0.9, -0.1), ncol=1,\n",
    "                     frameon=False, loc='center',\n",
    "                     borderaxespad=0, handlelength=0.75, \n",
    "                     title='De novo\\ngenotype', prop={'size':5})\n",
    "    \n",
    "    ax.add_artist(leg1)\n",
    "        \n",
    "    for leg in [leg1,leg2]:\n",
    "        plt.setp(leg.get_title(),fontsize=6, multialignment='center')\n",
    "\n",
    "for ax in fig.get_axes():\n",
    "    ax.xaxis.label.set_size(6)\n",
    "    ax.yaxis.label.set_size(6)\n",
    "    ax.tick_params(axis='x', which='major', size=2, labelsize=6)\n",
    "    ax.tick_params(axis='y', which='major', size=2, labelsize=4.5)\n",
    "    ax.tick_params(axis='both', which='minor', size=1, labelsize=4)\n",
    "\n",
    "plot.save_figure(dir_supp+'figures/supp_figure_seq_clones/supp_figure_seq_ancestral_clones')\n",
    "plt.show()"
   ]
  },
  {
   "cell_type": "markdown",
   "metadata": {},
   "source": [
    "**Fig. S5:** Sequences of ancestral clones sampled from the WAxNA $\\text{F}_\\text{12}$ founder populations, which were obtained by bulk crossing between the WA and NA parents. Pre-existing and *de novo* SNVs and indels were detected by whole-genome sequencing in single-cell derived clones from ancestral populations at ${t\\,{=}\\,0}$ days. Chromosomes are shown on the $x$-axis; clone isolates are listed on the left. WA (in blue) and NA (in red) represent haploid genotypes. Individual cells with unique background genotypes carry private *de novo* SNVs and indels (circles)."
   ]
  },
  {
   "cell_type": "markdown",
   "metadata": {},
   "source": [
    "## Figure 4 - Genome instability in sequences of evolved clones"
   ]
  },
  {
   "cell_type": "code",
   "execution_count": 15,
   "metadata": {},
   "outputs": [
    {
     "name": "stdout",
     "output_type": "stream",
     "text": [
      "('HU', 'WAxNA_F12_1_HU_1', (8, 10701))\n"
     ]
    },
    {
     "ename": "ValueError",
     "evalue": "zero-size array to reduction operation maximum which has no identity",
     "output_type": "error",
     "traceback": [
      "\u001b[0;31m---------------------------------------------------------------------------\u001b[0m",
      "\u001b[0;31mValueError\u001b[0m                                Traceback (most recent call last)",
      "\u001b[0;32m<ipython-input-15-5ec7099b7b02>\u001b[0m in \u001b[0;36m<module>\u001b[0;34m()\u001b[0m\n\u001b[1;32m     35\u001b[0m \u001b[0;31m#             fontsize=9, fontweight='bold', va='top', ha='right')\u001b[0m\u001b[0;34m\u001b[0m\u001b[0;34m\u001b[0m\u001b[0m\n\u001b[1;32m     36\u001b[0m     \u001b[0;32mprint\u001b[0m\u001b[0;34m(\u001b[0m\u001b[0me\u001b[0m\u001b[0;34m,\u001b[0m \u001b[0mp\u001b[0m\u001b[0;34m,\u001b[0m \u001b[0mdata\u001b[0m\u001b[0;34m.\u001b[0m\u001b[0mshape\u001b[0m\u001b[0;34m)\u001b[0m\u001b[0;34m\u001b[0m\u001b[0m\n\u001b[0;32m---> 37\u001b[0;31m     \u001b[0mplot\u001b[0m\u001b[0;34m.\u001b[0m\u001b[0mgenome_instability\u001b[0m\u001b[0;34m(\u001b[0m\u001b[0mdata\u001b[0m\u001b[0;34m,\u001b[0m \u001b[0max\u001b[0m\u001b[0;34m=\u001b[0m\u001b[0max\u001b[0m\u001b[0;34m,\u001b[0m \u001b[0mtitle\u001b[0m\u001b[0;34m=\u001b[0m\u001b[0mp\u001b[0m\u001b[0;34m.\u001b[0m\u001b[0mreplace\u001b[0m\u001b[0;34m(\u001b[0m\u001b[0;34m'_'\u001b[0m\u001b[0;34m,\u001b[0m\u001b[0;34m' '\u001b[0m\u001b[0;34m)\u001b[0m\u001b[0;34m+\u001b[0m\u001b[0;34m' T32'\u001b[0m\u001b[0;34m)\u001b[0m\u001b[0;34m\u001b[0m\u001b[0m\n\u001b[0m\u001b[1;32m     38\u001b[0m \u001b[0;34m\u001b[0m\u001b[0m\n\u001b[1;32m     39\u001b[0m \u001b[0;31m#     if ax.is_first_row():\u001b[0m\u001b[0;34m\u001b[0m\u001b[0;34m\u001b[0m\u001b[0m\n",
      "\u001b[0;32m/Users/ivg/projects/yeast-cancer-drugs/paper/science/submission/src/plot.pyc\u001b[0m in \u001b[0;36mgenome_instability\u001b[0;34m(data, ax, title)\u001b[0m\n\u001b[1;32m    419\u001b[0m                 \u001b[0;31m# Copy number\u001b[0m\u001b[0;34m\u001b[0m\u001b[0;34m\u001b[0m\u001b[0m\n\u001b[1;32m    420\u001b[0m                 \u001b[0mcopy_number_data\u001b[0m \u001b[0;34m=\u001b[0m \u001b[0mfilter_multiindex\u001b[0m\u001b[0;34m(\u001b[0m\u001b[0mgroup\u001b[0m\u001b[0;34m,\u001b[0m \u001b[0mnames\u001b[0m\u001b[0;34m=\u001b[0m\u001b[0;34m[\u001b[0m\u001b[0;34m'copy_number'\u001b[0m\u001b[0;34m]\u001b[0m\u001b[0;34m)\u001b[0m\u001b[0;34m\u001b[0m\u001b[0m\n\u001b[0;32m--> 421\u001b[0;31m                 \u001b[0mcopy_number\u001b[0m\u001b[0;34m(\u001b[0m\u001b[0mcopy_number_data\u001b[0m\u001b[0;34m,\u001b[0m \u001b[0max2\u001b[0m\u001b[0;34m)\u001b[0m\u001b[0;34m\u001b[0m\u001b[0m\n\u001b[0m\u001b[1;32m    422\u001b[0m                 \u001b[0;31m# LOH\u001b[0m\u001b[0;34m\u001b[0m\u001b[0;34m\u001b[0m\u001b[0m\n\u001b[1;32m    423\u001b[0m                 \u001b[0mloh_data\u001b[0m \u001b[0;34m=\u001b[0m \u001b[0mfilter_multiindex\u001b[0m\u001b[0;34m(\u001b[0m\u001b[0mgroup\u001b[0m\u001b[0;34m,\u001b[0m \u001b[0mnames\u001b[0m\u001b[0;34m=\u001b[0m\u001b[0;34m[\u001b[0m\u001b[0;34m'loh'\u001b[0m\u001b[0;34m]\u001b[0m\u001b[0;34m)\u001b[0m\u001b[0;34m\u001b[0m\u001b[0m\n",
      "\u001b[0;32m/Users/ivg/projects/yeast-cancer-drugs/paper/science/submission/src/plot.pyc\u001b[0m in \u001b[0;36mcopy_number\u001b[0;34m(data, ax)\u001b[0m\n\u001b[1;32m    348\u001b[0m \u001b[0;34m\u001b[0m\u001b[0m\n\u001b[1;32m    349\u001b[0m                 \u001b[0;32mfor\u001b[0m \u001b[0mcn\u001b[0m\u001b[0;34m,\u001b[0m \u001b[0mhatch\u001b[0m \u001b[0;32min\u001b[0m \u001b[0mzip\u001b[0m\u001b[0;34m(\u001b[0m\u001b[0;34m[\u001b[0m\u001b[0;36m1\u001b[0m\u001b[0;34m,\u001b[0m \u001b[0;36m3\u001b[0m\u001b[0;34m]\u001b[0m\u001b[0;34m,\u001b[0m \u001b[0;34m[\u001b[0m\u001b[0;34m'xx'\u001b[0m\u001b[0;34m,\u001b[0m\u001b[0;34m'--'\u001b[0m\u001b[0;34m]\u001b[0m\u001b[0;34m)\u001b[0m\u001b[0;34m:\u001b[0m\u001b[0;34m\u001b[0m\u001b[0m\n\u001b[0;32m--> 350\u001b[0;31m \t\t\theatmap(np.r_[x, x.max()+1], np.r_[y, y.max()+1], np.ma.masked_array(data, data!=cn),\n\u001b[0m\u001b[1;32m    351\u001b[0m \t\t\t\t\tax, '', '', '', [], [], cmap=cmap, hatch=hatch, vmin=1, vmax=3, zorder=2)\n\u001b[1;32m    352\u001b[0m \u001b[0;34m\u001b[0m\u001b[0m\n",
      "\u001b[0;32m/Users/ivg/.virtualenvs/genetic-variation/lib/python2.7/site-packages/numpy/core/_methods.pyc\u001b[0m in \u001b[0;36m_amax\u001b[0;34m(a, axis, out, keepdims)\u001b[0m\n\u001b[1;32m     24\u001b[0m \u001b[0;31m# small reductions\u001b[0m\u001b[0;34m\u001b[0m\u001b[0;34m\u001b[0m\u001b[0m\n\u001b[1;32m     25\u001b[0m \u001b[0;32mdef\u001b[0m \u001b[0m_amax\u001b[0m\u001b[0;34m(\u001b[0m\u001b[0ma\u001b[0m\u001b[0;34m,\u001b[0m \u001b[0maxis\u001b[0m\u001b[0;34m=\u001b[0m\u001b[0mNone\u001b[0m\u001b[0;34m,\u001b[0m \u001b[0mout\u001b[0m\u001b[0;34m=\u001b[0m\u001b[0mNone\u001b[0m\u001b[0;34m,\u001b[0m \u001b[0mkeepdims\u001b[0m\u001b[0;34m=\u001b[0m\u001b[0mFalse\u001b[0m\u001b[0;34m)\u001b[0m\u001b[0;34m:\u001b[0m\u001b[0;34m\u001b[0m\u001b[0m\n\u001b[0;32m---> 26\u001b[0;31m     \u001b[0;32mreturn\u001b[0m \u001b[0mumr_maximum\u001b[0m\u001b[0;34m(\u001b[0m\u001b[0ma\u001b[0m\u001b[0;34m,\u001b[0m \u001b[0maxis\u001b[0m\u001b[0;34m,\u001b[0m \u001b[0mNone\u001b[0m\u001b[0;34m,\u001b[0m \u001b[0mout\u001b[0m\u001b[0;34m,\u001b[0m \u001b[0mkeepdims\u001b[0m\u001b[0;34m)\u001b[0m\u001b[0;34m\u001b[0m\u001b[0m\n\u001b[0m\u001b[1;32m     27\u001b[0m \u001b[0;34m\u001b[0m\u001b[0m\n\u001b[1;32m     28\u001b[0m \u001b[0;32mdef\u001b[0m \u001b[0m_amin\u001b[0m\u001b[0;34m(\u001b[0m\u001b[0ma\u001b[0m\u001b[0;34m,\u001b[0m \u001b[0maxis\u001b[0m\u001b[0;34m=\u001b[0m\u001b[0mNone\u001b[0m\u001b[0;34m,\u001b[0m \u001b[0mout\u001b[0m\u001b[0;34m=\u001b[0m\u001b[0mNone\u001b[0m\u001b[0;34m,\u001b[0m \u001b[0mkeepdims\u001b[0m\u001b[0;34m=\u001b[0m\u001b[0mFalse\u001b[0m\u001b[0;34m)\u001b[0m\u001b[0;34m:\u001b[0m\u001b[0;34m\u001b[0m\u001b[0m\n",
      "\u001b[0;31mValueError\u001b[0m: zero-size array to reduction operation maximum which has no identity"
     ]
    },
    {
     "data": {
      "image/png": "[encoded data removed]",
      "text/plain": [
       "<matplotlib.figure.Figure at 0x1104b5210>"
      ]
     },
     "metadata": {},
     "output_type": "display_data"
    }
   ],
   "source": [
    "# Keep evolved isolates only\n",
    "seq_dn_df_sliced = seq_dn_df[(seq_dn_df['type'].isin(['consensus','snp_indel','copy_number','loh'])) & \\\n",
    "                             (seq_dn_df['time']==32)]\n",
    "\n",
    "seq_dn_df_sliced = pd.pivot_table(seq_dn_df_sliced, \n",
    "                                  index=['selection','population','time','set','clone','lineage','type','ploidy'], \n",
    "                                  columns=['chr_arabic','chr_roman','pos','gene'])['genotype']\n",
    "\n",
    "fig = plt.figure(figsize=(4, 18))\n",
    "\n",
    "indexer = [slice(None)]*len(seq_dn_df_sliced.index.names)\n",
    "indexer[seq_dn_df_sliced.index.names.index('type')] = ['consensus','loh']\n",
    "seq_dn_df_shape = seq_dn_df_sliced.loc[tuple(indexer),:].dropna(axis=1, how='all')\n",
    "\n",
    "shape = pd.DataFrame({k: \n",
    "x.shape for k,x in seq_dn_df_shape.groupby(level=['selection','population'])\n",
    "})\n",
    "\n",
    "ygrid = shape.ix[0].values\n",
    "grid = gridspec.GridSpec(len(ygrid), 1, height_ratios=ygrid, hspace=0.9)\n",
    "\n",
    "gs = {}\n",
    "\n",
    "for ii, ((e,p), data) in enumerate(seq_dn_df_sliced.groupby(level=['selection','population'])):\n",
    "\n",
    "    idx = 0\n",
    "    \n",
    "    nrows = ygrid[ii]\n",
    "    ncols = 1\n",
    "    gs[(e,p)] = gridspec.GridSpecFromSubplotSpec(nrows, ncols,\n",
    "                                                 subplot_spec=grid[ii],\n",
    "                                                 hspace=0, wspace=0)\n",
    "    \n",
    "    ax = gs[(e,p)]\n",
    "#     ax.text(-0.085, 1.2, 'C', transform=ax.transAxes,\n",
    "#             fontsize=9, fontweight='bold', va='top', ha='right')\n",
    "    print(e, p, data.shape)\n",
    "    plot.genome_instability(data, ax=ax, title=p.replace('_',' ')+' T32')\n",
    "    \n",
    "#     if ax.is_first_row():\n",
    "#         ax.text(-0.185, 1.055, 'A', transform=ax.transAxes,\n",
    "#                 fontsize=9, fontweight='bold', va='top', ha='right')\n",
    "    \n",
    "# axes limits\n",
    "for ax in fig.get_axes():\n",
    "    ax.xaxis.label.set_size(6)\n",
    "    ax.yaxis.label.set_size(6)\n",
    "    ax.tick_params(axis='both', which='major', size=2, labelsize=6)\n",
    "    ax.tick_params(axis='both', which='minor', size=1, labelsize=4)\n",
    "\n",
    "plot.save_figure(dir_supp+'figures/supp_figure_seq_clones/supp_figure_seq_evolved_clones')\n",
    "plt.show()"
   ]
  },
  {
   "cell_type": "markdown",
   "metadata": {},
   "source": [
    "**Fig. 4:** Genome instability in sequences of evolved clones. SNVs, indels and chromosome-level aberrations were detected by whole-genome sequencing in single-cell derived clones from evolved populations, after ${t\\,{=}\\,32}$ days in (**A**) hydroxurea or (**B**) rapamycin (see Table S1). Chromosomes are shown on the $x$-axis; clone isolates are listed on the left, colored by lineage (see Fig. S7). The consensus shows the majority genotype across population isolates with sequence identity greater than 80%. WA/WA (in blue) and NA/NA (in red) represent homozygous diploid genotypes and WA/NA (in purple) represents a heterozygous genotype. Individual cells with shared background genotype carry *de novo* SNVs and indels (circles), *de novo* mis-segregations with loss-of-heterozygosity (solid segments) and *de novo* gains or losses in copy number (hatched segments). Driver and passenger mutations are listed along the bottom (drivers are in boldface). Populations marked by $\\otimes$ indicate cross-contamination during the selection phase, but any derived events are independent."
   ]
  }
 ],
 "metadata": {
  "kernelspec": {
   "display_name": "genetic-variation",
   "language": "python",
   "name": "genetic-variation"
  },
  "language_info": {
   "codemirror_mode": {
    "name": "ipython",
    "version": 2
   },
   "file_extension": ".py",
   "mimetype": "text/x-python",
   "name": "python",
   "nbconvert_exporter": "python",
   "pygments_lexer": "ipython2",
   "version": "2.7.13"
  },
  "latex_metadata": {
   "affiliation": "Wellcome Trust Sanger Institute, Hinxton, Cambridge CB10 1SA, United Kingdom; Department of Applied Mathematics and Theoretical Physics, University of Cambridge, Cambridge CB3 0WA, United Kingdom",
   "author": "Ignacio Vazquez-Garcia",
   "title": "Clonal heterogeneity influences the fate of new adaptive mutations"
  }
 },
 "nbformat": 4,
 "nbformat_minor": 1
}
