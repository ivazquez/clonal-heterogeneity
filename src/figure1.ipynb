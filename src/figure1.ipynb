{
 "cells": [
  {
   "cell_type": "markdown",
   "metadata": {},
   "source": [
    "# Figure 1 - Study overview and genome-wide allele frequency changes"
   ]
  },
  {
   "cell_type": "code",
   "execution_count": 1,
   "metadata": {
    "collapsed": false
   },
   "outputs": [
    {
     "name": "stderr",
     "output_type": "stream",
     "text": [
      "/Users/ivg/Library/Enthought/Canopy_64bit/User/lib/python2.7/site-packages/matplotlib/__init__.py:872: UserWarning: axes.color_cycle is deprecated and replaced with axes.prop_cycle; please use the latter.\n",
      "  warnings.warn(self.msg_depr % (key, alt_key))\n",
      "/Users/ivg/Library/Enthought/Canopy_64bit/User/lib/python2.7/site-packages/matplotlib/__init__.py:872: UserWarning: svg.embed_char_paths is deprecated and replaced with svg.fonttype; please use the latter.\n",
      "  warnings.warn(self.msg_depr % (key, alt_key))\n"
     ]
    }
   ],
   "source": [
    "# load external dependencies\n",
    "import matplotlib.pyplot as plt\n",
    "%matplotlib inline\n",
    "# import reconstruction_tools as rt\n",
    "import glob, os, re\n",
    "import numpy as np\n",
    "import pandas as pd # (*) Pandas for data manipulation\n",
    "\n",
    "import json, matplotlib\n",
    "s = json.load( open(\"matplotlibrc.json\") )\n",
    "matplotlib.rcParams.update(s)\n",
    "\n",
    "# load internal dependencies\n",
    "import sys\n",
    "sys.path.append('/Users/ivg/software/pytools/') # the pytools dir contains the package\n",
    "from pytools import seq,pheno,utils\n",
    "\n",
    "# relative file path for data directory\n",
    "dir_data = \"/Users/ivg/projects/yeast-cancer-drugs/paper/science/submission/data/\"\n",
    "dir_paper = \"/Users/ivg/projects/yeast-cancer-drugs/paper/science/submission/manuscript/main/\"\n",
    "dir_supp = \"/Users/ivg/projects/yeast-cancer-drugs/paper/science/submission/manuscript/supp/\""
   ]
  },
  {
   "cell_type": "code",
   "execution_count": 2,
   "metadata": {
    "collapsed": false
   },
   "outputs": [],
   "source": [
    "sgd_length = pd.read_csv('~/reference/SGD_2010.lengths', names=['chr_arabic','chrs','chr_length'], index_col=False, sep=' ')\n",
    "sgd_length = sgd_length[~(sgd_length['chr_arabic'].isin([17,18]))]\n",
    "sgd_length['chr_start'] = ((pd.rolling_sum((sgd_length['chr_length']), 2) - sgd_length['chr_length']).fillna(0)).cumsum(axis=0)\n",
    "sgd_length['chr_end'] = (sgd_length['chr_length'] + 1).cumsum(axis=0)\n",
    "sgd_length = sgd_length.drop('chr_length', axis=1)"
   ]
  },
  {
   "cell_type": "code",
   "execution_count": 3,
   "metadata": {
    "collapsed": false
   },
   "outputs": [
    {
     "data": {
      "text/html": [
       "<div>\n",
       "<table border=\"1\" class=\"dataframe\">\n",
       "  <thead>\n",
       "    <tr style=\"text-align: right;\">\n",
       "      <th></th>\n",
       "      <th></th>\n",
       "      <th>time</th>\n",
       "      <th>2</th>\n",
       "      <th>4</th>\n",
       "      <th>8</th>\n",
       "      <th>16</th>\n",
       "      <th>32</th>\n",
       "    </tr>\n",
       "    <tr>\n",
       "      <th>sample</th>\n",
       "      <th>chr_roman</th>\n",
       "      <th>pos</th>\n",
       "      <th></th>\n",
       "      <th></th>\n",
       "      <th></th>\n",
       "      <th></th>\n",
       "      <th></th>\n",
       "    </tr>\n",
       "  </thead>\n",
       "  <tbody>\n",
       "    <tr>\n",
       "      <th rowspan=\"5\" valign=\"top\">WAxNA_F12_1_HU_1</th>\n",
       "      <th rowspan=\"5\" valign=\"top\">I</th>\n",
       "      <th>2718</th>\n",
       "      <td>0.920</td>\n",
       "      <td>0.931</td>\n",
       "      <td>0.929</td>\n",
       "      <td>0.956</td>\n",
       "      <td>0.978</td>\n",
       "    </tr>\n",
       "    <tr>\n",
       "      <th>2731</th>\n",
       "      <td>0.920</td>\n",
       "      <td>0.931</td>\n",
       "      <td>0.930</td>\n",
       "      <td>0.957</td>\n",
       "      <td>0.979</td>\n",
       "    </tr>\n",
       "    <tr>\n",
       "      <th>2734</th>\n",
       "      <td>0.920</td>\n",
       "      <td>0.931</td>\n",
       "      <td>0.930</td>\n",
       "      <td>0.957</td>\n",
       "      <td>0.979</td>\n",
       "    </tr>\n",
       "    <tr>\n",
       "      <th>4532</th>\n",
       "      <td>0.932</td>\n",
       "      <td>0.948</td>\n",
       "      <td>0.944</td>\n",
       "      <td>0.969</td>\n",
       "      <td>0.985</td>\n",
       "    </tr>\n",
       "    <tr>\n",
       "      <th>5035</th>\n",
       "      <td>0.924</td>\n",
       "      <td>0.951</td>\n",
       "      <td>0.949</td>\n",
       "      <td>0.960</td>\n",
       "      <td>0.986</td>\n",
       "    </tr>\n",
       "  </tbody>\n",
       "</table>\n",
       "</div>"
      ],
      "text/plain": [
       "time                                2      4      8      16     32\n",
       "sample           chr_roman pos                                    \n",
       "WAxNA_F12_1_HU_1 I         2718  0.920  0.931  0.929  0.956  0.978\n",
       "                           2731  0.920  0.931  0.930  0.957  0.979\n",
       "                           2734  0.920  0.931  0.930  0.957  0.979\n",
       "                           4532  0.932  0.948  0.944  0.969  0.985\n",
       "                           5035  0.924  0.951  0.949  0.960  0.986"
      ]
     },
     "execution_count": 3,
     "metadata": {},
     "output_type": "execute_result"
    }
   ],
   "source": [
    "# files = glob.glob(data+\"SNVs.seg.*.filtered.posterior-?.txt\")\n",
    "jfiles = glob.glob(dir_data+\"seq/filterHD-v1.0/seg_sites/pools/SNVs.seg.WAxNA_F12_1_HU_1.filtered.jumps.txt\")\n",
    "\n",
    "jumps_df = pd.DataFrame()\n",
    "for jj in jfiles:\n",
    "    # read into pandas dataframe\n",
    "    frame = pd.read_csv(jj, sep=' ', index_col=None)\n",
    "    frame.rename(columns={'#sample': 'chr'}, inplace=True)\n",
    "    #\n",
    "    f = re.split(r'[.-]+', os.path.basename(jj))\n",
    "    frame['sample'] = f[2]\n",
    "    frame['time'] = f[5]\n",
    "    #\n",
    "    jumps_df = jumps_df.append(frame, ignore_index=True)\n",
    "jumps_df.head()\n",
    "\n",
    "pfiles = glob.glob(dir_data+\"seq/filterHD-v1.0/seg_sites/pools/SNVs.seg.WAxNA_F12_1_*_1.filtered.posterior-*.txt\")\n",
    "\n",
    "post_df = pd.DataFrame()\n",
    "for pp in pfiles:\n",
    "    # read into pandas dataframe\n",
    "    frame = pd.read_csv(pp, sep=r\"\\s+\", index_col=None)\n",
    "    frame.rename(columns={'#sample': 'chr_arabic'}, inplace=True)\n",
    "    #\n",
    "    f = re.split(r'[.-]+', os.path.basename(pp))\n",
    "    frame['sample'] = f[2]\n",
    "    frame['background'] = f[2].split('_')[0]\n",
    "    frame['cross'] = f[2].split('_')[1]\n",
    "    frame['cross_rep'] = f[2].split('_')[2]\n",
    "    frame['env'] = f[2].split('_')[3]\n",
    "    frame['prop_rep'] = f[2].split('_')[4]\n",
    "    frame['time'] = int(f[5])\n",
    "    #\n",
    "    post_df = post_df.append(frame, ignore_index=True)\n",
    "    \n",
    "post_df = post_df.merge(sgd_length, how='left', on='chr_arabic')\n",
    "post_df['pos'] = post_df.chr_start + post_df.site\n",
    "\n",
    "post_df['chr_roman'] = post_df['chr_arabic'].apply(utils.int2roman)\n",
    "\n",
    "post_df = post_df[post_df.env!='MO']\n",
    "\n",
    "post_df = pd.pivot_table(post_df, index=['sample','chr_roman','pos'], columns=['time'], values='mean')\n",
    "\n",
    "post_df.head()"
   ]
  },
  {
   "cell_type": "code",
   "execution_count": 4,
   "metadata": {
    "collapsed": true
   },
   "outputs": [],
   "source": [
    "def set_custom_labels(index, pos):\n",
    "    \"\"\"\n",
    "    \n",
    "    \"\"\"\n",
    "    start = dict((m[pos], ii) for ii,m in enumerate(index.values))\n",
    "    end = dict((m[pos], len(index)-ii-1) for ii,m in enumerate(index[::-1].values))\n",
    "    labels = {key: (start[key] + end.get(key, 0))/2. + 0.5 for key in end.keys()}\n",
    "    \n",
    "    return start, end, labels"
   ]
  },
  {
   "cell_type": "code",
   "execution_count": 5,
   "metadata": {
    "collapsed": true
   },
   "outputs": [],
   "source": [
    "def lineplot(X, ax, title, xlabel, ylabel, xticklabels, yticklabels, cmap='RdBu', vmin=0.0, vmax=1.0, show=False):\n",
    "    '''\n",
    "\n",
    "    '''\n",
    "    \n",
    "    # Plot it out\n",
    "#     c = ax.pcolor(X, linewidths=0, cmap=cmap, vmin=vmin, vmax=vmax)\n",
    "    X.plot(ax=ax, lw=0.5, legend=False)\n",
    "\n",
    "    # Place the major ticks at the middle of each cell\n",
    "#     ax.set_xticks(np.arange(X.shape[1]) + 0.5, minor=False)\n",
    "#     ax.set_yticks(np.arange(X.shape[0]) + 0.5, minor=False)\n",
    "\n",
    "    # set tick labels\n",
    "#     ax.set_xticklabels(xticklabels, minor=False, rotation=90)\n",
    "#     ax.set_yticklabels(yticklabels, minor=False)\n",
    "\n",
    "    # set title and x/y labels\n",
    "    ax.set_title(title)\n",
    "    ax.set_xlabel(xlabel)\n",
    "    ax.set_ylabel(ylabel)\n",
    "\n",
    "    # Remove last blank column\n",
    "#     ax.set_xlim( (0, X.shape[1]) )\n",
    "#     ax.set_ylim( (0, X.shape[0]) )\n",
    "\n",
    "    # Turn off all the ticks\n",
    "    for t in ax.xaxis.get_major_ticks():\n",
    "        t.tick1On = False\n",
    "        t.tick2On = False\n",
    "    for t in ax.yaxis.get_major_ticks():\n",
    "        t.tick1On = False\n",
    "        t.tick2On = False"
   ]
  },
  {
   "cell_type": "code",
   "execution_count": 6,
   "metadata": {
    "collapsed": false
   },
   "outputs": [
    {
     "data": {
      "image/png": "[encoded data removed]",
      "text/plain": [
       "<matplotlib.figure.Figure at 0x10e224ed0>"
      ]
     },
     "metadata": {},
     "output_type": "display_data"
    }
   ],
   "source": [
    "from matplotlib.ticker import MaxNLocator\n",
    "\n",
    "fig = plt.figure(figsize=(4, 3), dpi=300)\n",
    "\n",
    "import matplotlib.gridspec as gridspec\n",
    "grid = gridspec.GridSpec(2, 1, height_ratios=[1,1])#, hspace=0.4, wspace=0.4)\n",
    "\n",
    "gs = {}\n",
    "gs['schematic'] = gridspec.GridSpecFromSubplotSpec(1, 1, subplot_spec=grid[0])\n",
    "gs['freq'] = gridspec.GridSpecFromSubplotSpec(2, 1, subplot_spec=grid[1])\n",
    "\n",
    "# fig, axes = plt.subplots(nrows=3, ncols=1, figsize=(4.6, 5), sharex=True, sharey=True)\n",
    "\n",
    "### top panel ###\n",
    "ax1 = plt.subplot(gs['schematic'][:])\n",
    "\n",
    "# img = SVG(url='http://upload.wikimedia.org/wikipedia/en/a/a4/Flag_of_the_United_States.svg')\n",
    "\n",
    "# ax.imshow(img)\n",
    "\n",
    "ax1.text(-0.075, 1.05,  chr(ord('A')), transform=ax1.transAxes,\n",
    "         fontsize=12, fontweight='bold', va='top', ha='right')\n",
    "\n",
    "### bottom panels ###\n",
    "groups = post_df.groupby(level='sample', sort=False)\n",
    "\n",
    "for ii, (k, g) in enumerate(groups):\n",
    "\n",
    "    ax2 = plt.subplot(gs['freq'][ii])\n",
    "    \n",
    "    title = ''\n",
    "    xlabel= ''\n",
    "    ylabel= ''\n",
    "    xticklabels = []\n",
    "    yticklabels = []\n",
    "\n",
    "    lineplot(g.ix[k], ax2, title, xlabel, ylabel, xticklabels, yticklabels, cmap='Purples')\n",
    "\n",
    "    utils.simple_axes(ax2)\n",
    "    \n",
    "    ax2.text(-0.075, 1.05,  chr(ii + ord('B')), transform=ax2.transAxes,\n",
    "             fontsize=12, fontweight='bold', va='top', ha='right')\n",
    "    \n",
    "    ax2.set_ylim((0, 1))\n",
    "    ax2.yaxis.set_major_locator(MaxNLocator(nbins=2))\n",
    "    \n",
    "    xstart, xend, xlabels = set_custom_labels(g.index, 1)\n",
    "    # labels\n",
    "    if ax2.is_last_row():\n",
    "        ax2.set_xticks(xlabels.values(), minor=False)\n",
    "        ax2.set_xticklabels(xlabels.keys(), minor=False)\n",
    "    # grid\n",
    "    xgrid=[xst+1. for xst in list(set(xstart.values()))]\n",
    "    [ax2.axvline(x, lw=0.5, ls=\"-\", color=\"gray\") for x in xgrid]\n",
    "    \n",
    "    ax2.set_ylabel('Allele frequency')\n",
    "    \n",
    "ax2.set_xlabel('Chromosome')\n",
    "\n",
    "leg = ax2.legend(bbox_to_anchor=(1.05, 0.5), frameon=False, prop={'size':4},\n",
    "                 loc='center left', borderaxespad=0.,\n",
    "                 handlelength=0.75, title='Time')\n",
    "\n",
    "plt.setp(leg.get_title(),fontsize=6)\n",
    "\n",
    "# axes limits\n",
    "for ax in fig.get_axes():\n",
    "    ax.xaxis.label.set_size(6)\n",
    "    ax.yaxis.label.set_size(6)\n",
    "    ax.tick_params(axis='both', which='major', size=2, labelsize=6)\n",
    "    ax.tick_params(axis='both', which='minor', size=1, labelsize=4)\n",
    "    for sp in ax.spines.values():\n",
    "        sp.set(color='k', linewidth=0.75, linestyle='-')\n",
    "    \n",
    "fig.savefig(dir_paper+'figures/figure1/figure1.png', dpi=300, bbox_inches='tight')\n",
    "fig.savefig(dir_paper+'figures/figure1/figure1.svg', dpi=300, bbox_inches='tight')\n",
    "plt.show()"
   ]
  },
  {
   "cell_type": "code",
   "execution_count": null,
   "metadata": {
    "collapsed": true
   },
   "outputs": [],
   "source": []
  }
 ],
 "metadata": {
  "kernelspec": {
   "display_name": "Python 2",
   "language": "python",
   "name": "python2"
  },
  "language_info": {
   "codemirror_mode": {
    "name": "ipython",
    "version": 2
   },
   "file_extension": ".py",
   "mimetype": "text/x-python",
   "name": "python",
   "nbconvert_exporter": "python",
   "pygments_lexer": "ipython2",
   "version": "2.7.10"
  }
 },
 "nbformat": 4,
 "nbformat_minor": 0
}
